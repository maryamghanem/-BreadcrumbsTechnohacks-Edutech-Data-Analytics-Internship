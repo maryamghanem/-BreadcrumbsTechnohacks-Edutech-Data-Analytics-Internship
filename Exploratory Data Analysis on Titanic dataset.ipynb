{
 "cells": [
  {
   "attachments": {
    "46cfd57f-071b-4cc6-a4ab-cd07e0b16cd4.jpg": {
     "image/jpeg": "[encoded data removed]"
    }
   },
   "cell_type": "markdown",
   "id": "51b0ed8b",
   "metadata": {
    "papermill": {
     "duration": 0.015259,
     "end_time": "2023-11-22T16:51:49.170380",
     "exception": false,
     "start_time": "2023-11-22T16:51:49.155121",
     "status": "completed"
    },
    "tags": []
   },
   "source": [
    "# ![technohacks_logo.jpg](attachment:46cfd57f-071b-4cc6-a4ab-cd07e0b16cd4.jpg) \n",
    "# Data Analytics Internship Tasks                     \n",
    "\n"
   ]
  },
  {
   "cell_type": "markdown",
   "id": "419fc20d",
   "metadata": {
    "papermill": {
     "duration": 0.014217,
     "end_time": "2023-11-22T16:51:49.199459",
     "exception": false,
     "start_time": "2023-11-22T16:51:49.185242",
     "status": "completed"
    },
    "tags": []
   },
   "source": [
    "# Task 1 : Perform Data Cleaning \n",
    "# Clean a dataset by removing missing values and outliers."
   ]
  },
  {
   "cell_type": "code",
   "execution_count": 1,
   "id": "e8a290e4",
   "metadata": {
    "execution": {
     "iopub.execute_input": "2023-11-22T16:51:49.232578Z",
     "iopub.status.busy": "2023-11-22T16:51:49.231600Z",
     "iopub.status.idle": "2023-11-22T16:51:51.606146Z",
     "shell.execute_reply": "2023-11-22T16:51:51.604896Z"
    },
    "papermill": {
     "duration": 2.394898,
     "end_time": "2023-11-22T16:51:51.609326",
     "exception": false,
     "start_time": "2023-11-22T16:51:49.214428",
     "status": "completed"
    },
    "tags": []
   },
   "outputs": [],
   "source": [
    "# import all required libaries\n",
    "import pandas as pd\n",
    "import numpy as np\n",
    "import seaborn as sns\n",
    "import matplotlib.pyplot as plt"
   ]
  },
  {
   "cell_type": "code",
   "execution_count": 2,
   "id": "198cd85b",
   "metadata": {
    "execution": {
     "iopub.execute_input": "2023-11-22T16:51:51.641056Z",
     "iopub.status.busy": "2023-11-22T16:51:51.640488Z",
     "iopub.status.idle": "2023-11-22T16:51:51.707469Z",
     "shell.execute_reply": "2023-11-22T16:51:51.706317Z"
    },
    "papermill": {
     "duration": 0.085817,
     "end_time": "2023-11-22T16:51:51.710155",
     "exception": false,
     "start_time": "2023-11-22T16:51:51.624338",
     "status": "completed"
    },
    "tags": []
   },
   "outputs": [
    {
     "data": {
      "text/html": [
       "<div>\n",
       "<style scoped>\n",
       "    .dataframe tbody tr th:only-of-type {\n",
       "        vertical-align: middle;\n",
       "    }\n",
       "\n",
       "    .dataframe tbody tr th {\n",
       "        vertical-align: top;\n",
       "    }\n",
       "\n",
       "    .dataframe thead th {\n",
       "        text-align: right;\n",
       "    }\n",
       "</style>\n",
       "<table border=\"1\" class=\"dataframe\">\n",
       "  <thead>\n",
       "    <tr style=\"text-align: right;\">\n",
       "      <th></th>\n",
       "      <th>PassengerId</th>\n",
       "      <th>Survived</th>\n",
       "      <th>Pclass</th>\n",
       "      <th>Name</th>\n",
       "      <th>Sex</th>\n",
       "      <th>Age</th>\n",
       "      <th>SibSp</th>\n",
       "      <th>Parch</th>\n",
       "      <th>Ticket</th>\n",
       "      <th>Fare</th>\n",
       "      <th>Cabin</th>\n",
       "      <th>Embarked</th>\n",
       "    </tr>\n",
       "  </thead>\n",
       "  <tbody>\n",
       "    <tr>\n",
       "      <th>0</th>\n",
       "      <td>1</td>\n",
       "      <td>0</td>\n",
       "      <td>3</td>\n",
       "      <td>Braund, Mr. Owen Harris</td>\n",
       "      <td>male</td>\n",
       "      <td>22.0</td>\n",
       "      <td>1</td>\n",
       "      <td>0</td>\n",
       "      <td>A/5 21171</td>\n",
       "      <td>7.2500</td>\n",
       "      <td>NaN</td>\n",
       "      <td>S</td>\n",
       "    </tr>\n",
       "    <tr>\n",
       "      <th>1</th>\n",
       "      <td>2</td>\n",
       "      <td>1</td>\n",
       "      <td>1</td>\n",
       "      <td>Cumings, Mrs. John Bradley (Florence Briggs Th...</td>\n",
       "      <td>female</td>\n",
       "      <td>38.0</td>\n",
       "      <td>1</td>\n",
       "      <td>0</td>\n",
       "      <td>PC 17599</td>\n",
       "      <td>71.2833</td>\n",
       "      <td>C85</td>\n",
       "      <td>C</td>\n",
       "    </tr>\n",
       "    <tr>\n",
       "      <th>2</th>\n",
       "      <td>3</td>\n",
       "      <td>1</td>\n",
       "      <td>3</td>\n",
       "      <td>Heikkinen, Miss. Laina</td>\n",
       "      <td>female</td>\n",
       "      <td>26.0</td>\n",
       "      <td>0</td>\n",
       "      <td>0</td>\n",
       "      <td>STON/O2. 3101282</td>\n",
       "      <td>7.9250</td>\n",
       "      <td>NaN</td>\n",
       "      <td>S</td>\n",
       "    </tr>\n",
       "    <tr>\n",
       "      <th>3</th>\n",
       "      <td>4</td>\n",
       "      <td>1</td>\n",
       "      <td>1</td>\n",
       "      <td>Futrelle, Mrs. Jacques Heath (Lily May Peel)</td>\n",
       "      <td>female</td>\n",
       "      <td>35.0</td>\n",
       "      <td>1</td>\n",
       "      <td>0</td>\n",
       "      <td>113803</td>\n",
       "      <td>53.1000</td>\n",
       "      <td>C123</td>\n",
       "      <td>S</td>\n",
       "    </tr>\n",
       "    <tr>\n",
       "      <th>4</th>\n",
       "      <td>5</td>\n",
       "      <td>0</td>\n",
       "      <td>3</td>\n",
       "      <td>Allen, Mr. William Henry</td>\n",
       "      <td>male</td>\n",
       "      <td>35.0</td>\n",
       "      <td>0</td>\n",
       "      <td>0</td>\n",
       "      <td>373450</td>\n",
       "      <td>8.0500</td>\n",
       "      <td>NaN</td>\n",
       "      <td>S</td>\n",
       "    </tr>\n",
       "    <tr>\n",
       "      <th>...</th>\n",
       "      <td>...</td>\n",
       "      <td>...</td>\n",
       "      <td>...</td>\n",
       "      <td>...</td>\n",
       "      <td>...</td>\n",
       "      <td>...</td>\n",
       "      <td>...</td>\n",
       "      <td>...</td>\n",
       "      <td>...</td>\n",
       "      <td>...</td>\n",
       "      <td>...</td>\n",
       "      <td>...</td>\n",
       "    </tr>\n",
       "    <tr>\n",
       "      <th>886</th>\n",
       "      <td>887</td>\n",
       "      <td>0</td>\n",
       "      <td>2</td>\n",
       "      <td>Montvila, Rev. Juozas</td>\n",
       "      <td>male</td>\n",
       "      <td>27.0</td>\n",
       "      <td>0</td>\n",
       "      <td>0</td>\n",
       "      <td>211536</td>\n",
       "      <td>13.0000</td>\n",
       "      <td>NaN</td>\n",
       "      <td>S</td>\n",
       "    </tr>\n",
       "    <tr>\n",
       "      <th>887</th>\n",
       "      <td>888</td>\n",
       "      <td>1</td>\n",
       "      <td>1</td>\n",
       "      <td>Graham, Miss. Margaret Edith</td>\n",
       "      <td>female</td>\n",
       "      <td>19.0</td>\n",
       "      <td>0</td>\n",
       "      <td>0</td>\n",
       "      <td>112053</td>\n",
       "      <td>30.0000</td>\n",
       "      <td>B42</td>\n",
       "      <td>S</td>\n",
       "    </tr>\n",
       "    <tr>\n",
       "      <th>888</th>\n",
       "      <td>889</td>\n",
       "      <td>0</td>\n",
       "      <td>3</td>\n",
       "      <td>Johnston, Miss. Catherine Helen \"Carrie\"</td>\n",
       "      <td>female</td>\n",
       "      <td>NaN</td>\n",
       "      <td>1</td>\n",
       "      <td>2</td>\n",
       "      <td>W./C. 6607</td>\n",
       "      <td>23.4500</td>\n",
       "      <td>NaN</td>\n",
       "      <td>S</td>\n",
       "    </tr>\n",
       "    <tr>\n",
       "      <th>889</th>\n",
       "      <td>890</td>\n",
       "      <td>1</td>\n",
       "      <td>1</td>\n",
       "      <td>Behr, Mr. Karl Howell</td>\n",
       "      <td>male</td>\n",
       "      <td>26.0</td>\n",
       "      <td>0</td>\n",
       "      <td>0</td>\n",
       "      <td>111369</td>\n",
       "      <td>30.0000</td>\n",
       "      <td>C148</td>\n",
       "      <td>C</td>\n",
       "    </tr>\n",
       "    <tr>\n",
       "      <th>890</th>\n",
       "      <td>891</td>\n",
       "      <td>0</td>\n",
       "      <td>3</td>\n",
       "      <td>Dooley, Mr. Patrick</td>\n",
       "      <td>male</td>\n",
       "      <td>32.0</td>\n",
       "      <td>0</td>\n",
       "      <td>0</td>\n",
       "      <td>370376</td>\n",
       "      <td>7.7500</td>\n",
       "      <td>NaN</td>\n",
       "      <td>Q</td>\n",
       "    </tr>\n",
       "  </tbody>\n",
       "</table>\n",
       "<p>891 rows × 12 columns</p>\n",
       "</div>"
      ],
      "text/plain": [
       "     PassengerId  Survived  Pclass  \\\n",
       "0              1         0       3   \n",
       "1              2         1       1   \n",
       "2              3         1       3   \n",
       "3              4         1       1   \n",
       "4              5         0       3   \n",
       "..           ...       ...     ...   \n",
       "886          887         0       2   \n",
       "887          888         1       1   \n",
       "888          889         0       3   \n",
       "889          890         1       1   \n",
       "890          891         0       3   \n",
       "\n",
       "                                                  Name     Sex   Age  SibSp  \\\n",
       "0                              Braund, Mr. Owen Harris    male  22.0      1   \n",
       "1    Cumings, Mrs. John Bradley (Florence Briggs Th...  female  38.0      1   \n",
       "2                               Heikkinen, Miss. Laina  female  26.0      0   \n",
       "3         Futrelle, Mrs. Jacques Heath (Lily May Peel)  female  35.0      1   \n",
       "4                             Allen, Mr. William Henry    male  35.0      0   \n",
       "..                                                 ...     ...   ...    ...   \n",
       "886                              Montvila, Rev. Juozas    male  27.0      0   \n",
       "887                       Graham, Miss. Margaret Edith  female  19.0      0   \n",
       "888           Johnston, Miss. Catherine Helen \"Carrie\"  female   NaN      1   \n",
       "889                              Behr, Mr. Karl Howell    male  26.0      0   \n",
       "890                                Dooley, Mr. Patrick    male  32.0      0   \n",
       "\n",
       "     Parch            Ticket     Fare Cabin Embarked  \n",
       "0        0         A/5 21171   7.2500   NaN        S  \n",
       "1        0          PC 17599  71.2833   C85        C  \n",
       "2        0  STON/O2. 3101282   7.9250   NaN        S  \n",
       "3        0            113803  53.1000  C123        S  \n",
       "4        0            373450   8.0500   NaN        S  \n",
       "..     ...               ...      ...   ...      ...  \n",
       "886      0            211536  13.0000   NaN        S  \n",
       "887      0            112053  30.0000   B42        S  \n",
       "888      2        W./C. 6607  23.4500   NaN        S  \n",
       "889      0            111369  30.0000  C148        C  \n",
       "890      0            370376   7.7500   NaN        Q  \n",
       "\n",
       "[891 rows x 12 columns]"
      ]
     },
     "execution_count": 2,
     "metadata": {},
     "output_type": "execute_result"
    }
   ],
   "source": [
    "#READ THE DATSET\n",
    "df = pd.read_csv(\"/kaggle/input/titanic-dataset/titanic_dataset.csv\")\n",
    "df"
   ]
  },
  {
   "cell_type": "code",
   "execution_count": 3,
   "id": "153d55ee",
   "metadata": {
    "execution": {
     "iopub.execute_input": "2023-11-22T16:51:51.744839Z",
     "iopub.status.busy": "2023-11-22T16:51:51.744379Z",
     "iopub.status.idle": "2023-11-22T16:51:51.771696Z",
     "shell.execute_reply": "2023-11-22T16:51:51.770840Z"
    },
    "papermill": {
     "duration": 0.047584,
     "end_time": "2023-11-22T16:51:51.774683",
     "exception": false,
     "start_time": "2023-11-22T16:51:51.727099",
     "status": "completed"
    },
    "tags": []
   },
   "outputs": [
    {
     "name": "stdout",
     "output_type": "stream",
     "text": [
      "<class 'pandas.core.frame.DataFrame'>\n",
      "RangeIndex: 891 entries, 0 to 890\n",
      "Data columns (total 12 columns):\n",
      " #   Column       Non-Null Count  Dtype  \n",
      "---  ------       --------------  -----  \n",
      " 0   PassengerId  891 non-null    int64  \n",
      " 1   Survived     891 non-null    int64  \n",
      " 2   Pclass       891 non-null    int64  \n",
      " 3   Name         891 non-null    object \n",
      " 4   Sex          891 non-null    object \n",
      " 5   Age          714 non-null    float64\n",
      " 6   SibSp        891 non-null    int64  \n",
      " 7   Parch        891 non-null    int64  \n",
      " 8   Ticket       891 non-null    object \n",
      " 9   Fare         891 non-null    float64\n",
      " 10  Cabin        204 non-null    object \n",
      " 11  Embarked     889 non-null    object \n",
      "dtypes: float64(2), int64(5), object(5)\n",
      "memory usage: 83.7+ KB\n",
      "None\n"
     ]
    }
   ],
   "source": [
    "#info of dataset including missing values\n",
    "print(df.info())  "
   ]
  },
  {
   "cell_type": "code",
   "execution_count": 4,
   "id": "7a7bd466",
   "metadata": {
    "execution": {
     "iopub.execute_input": "2023-11-22T16:51:51.809821Z",
     "iopub.status.busy": "2023-11-22T16:51:51.809132Z",
     "iopub.status.idle": "2023-11-22T16:51:51.816320Z",
     "shell.execute_reply": "2023-11-22T16:51:51.815266Z"
    },
    "papermill": {
     "duration": 0.028467,
     "end_time": "2023-11-22T16:51:51.819374",
     "exception": false,
     "start_time": "2023-11-22T16:51:51.790907",
     "status": "completed"
    },
    "tags": []
   },
   "outputs": [
    {
     "name": "stdout",
     "output_type": "stream",
     "text": [
      "PassengerId      0\n",
      "Survived         0\n",
      "Pclass           0\n",
      "Name             0\n",
      "Sex              0\n",
      "Age            177\n",
      "SibSp            0\n",
      "Parch            0\n",
      "Ticket           0\n",
      "Fare             0\n",
      "Cabin          687\n",
      "Embarked         2\n",
      "dtype: int64\n"
     ]
    }
   ],
   "source": [
    "# Check for missing values\n",
    "missing_values = df.isnull().sum()\n",
    "print(missing_values )"
   ]
  },
  {
   "cell_type": "code",
   "execution_count": 5,
   "id": "413f8d84",
   "metadata": {
    "execution": {
     "iopub.execute_input": "2023-11-22T16:51:51.852809Z",
     "iopub.status.busy": "2023-11-22T16:51:51.852332Z",
     "iopub.status.idle": "2023-11-22T16:51:52.364601Z",
     "shell.execute_reply": "2023-11-22T16:51:52.363457Z"
    },
    "papermill": {
     "duration": 0.532251,
     "end_time": "2023-11-22T16:51:52.367254",
     "exception": false,
     "start_time": "2023-11-22T16:51:51.835003",
     "status": "completed"
    },
    "tags": []
   },
   "outputs": [
    {
     "data": {
      "image/png": "[encoded data removed]",
      "text/plain": [
       "<Figure size 640x480 with 1 Axes>"
      ]
     },
     "metadata": {},
     "output_type": "display_data"
    }
   ],
   "source": [
    "#visualize the missing data\n",
    "sns.heatmap(df.isnull(), cmap='viridis', cbar=False)\n",
    "plt.show()"
   ]
  },
  {
   "cell_type": "code",
   "execution_count": 6,
   "id": "76fe06b5",
   "metadata": {
    "execution": {
     "iopub.execute_input": "2023-11-22T16:51:52.404631Z",
     "iopub.status.busy": "2023-11-22T16:51:52.404125Z",
     "iopub.status.idle": "2023-11-22T16:51:52.411086Z",
     "shell.execute_reply": "2023-11-22T16:51:52.409447Z"
    },
    "papermill": {
     "duration": 0.031397,
     "end_time": "2023-11-22T16:51:52.415109",
     "exception": false,
     "start_time": "2023-11-22T16:51:52.383712",
     "status": "completed"
    },
    "tags": []
   },
   "outputs": [],
   "source": [
    "#Handle the missing values"
   ]
  },
  {
   "cell_type": "markdown",
   "id": "2aa73aa3",
   "metadata": {
    "papermill": {
     "duration": 0.021573,
     "end_time": "2023-11-22T16:51:52.458418",
     "exception": false,
     "start_time": "2023-11-22T16:51:52.436845",
     "status": "completed"
    },
    "tags": []
   },
   "source": [
    "**so, here for numerical value fill it with mean and for categorical value fill it with 'unknown'.**"
   ]
  },
  {
   "cell_type": "code",
   "execution_count": 7,
   "id": "d153292b",
   "metadata": {
    "execution": {
     "iopub.execute_input": "2023-11-22T16:51:52.501195Z",
     "iopub.status.busy": "2023-11-22T16:51:52.499731Z",
     "iopub.status.idle": "2023-11-22T16:51:52.514914Z",
     "shell.execute_reply": "2023-11-22T16:51:52.513902Z"
    },
    "papermill": {
     "duration": 0.036558,
     "end_time": "2023-11-22T16:51:52.517811",
     "exception": false,
     "start_time": "2023-11-22T16:51:52.481253",
     "status": "completed"
    },
    "tags": []
   },
   "outputs": [],
   "source": [
    "numerical_columns = df.select_dtypes(include=['int64', 'float64']).columns\n",
    "df[numerical_columns] = df[numerical_columns].fillna(df[numerical_columns].mean())"
   ]
  },
  {
   "cell_type": "code",
   "execution_count": 8,
   "id": "f76f37bc",
   "metadata": {
    "execution": {
     "iopub.execute_input": "2023-11-22T16:51:52.557113Z",
     "iopub.status.busy": "2023-11-22T16:51:52.553764Z",
     "iopub.status.idle": "2023-11-22T16:51:52.568086Z",
     "shell.execute_reply": "2023-11-22T16:51:52.566573Z"
    },
    "papermill": {
     "duration": 0.037442,
     "end_time": "2023-11-22T16:51:52.571959",
     "exception": false,
     "start_time": "2023-11-22T16:51:52.534517",
     "status": "completed"
    },
    "tags": []
   },
   "outputs": [],
   "source": [
    "categorical_columns = df.select_dtypes(include='object').columns\n",
    "df[categorical_columns] = df[categorical_columns].fillna('Unknown')"
   ]
  },
  {
   "cell_type": "code",
   "execution_count": 9,
   "id": "03e1ae46",
   "metadata": {
    "execution": {
     "iopub.execute_input": "2023-11-22T16:51:52.734476Z",
     "iopub.status.busy": "2023-11-22T16:51:52.734005Z",
     "iopub.status.idle": "2023-11-22T16:51:52.743785Z",
     "shell.execute_reply": "2023-11-22T16:51:52.741901Z"
    },
    "papermill": {
     "duration": 0.151136,
     "end_time": "2023-11-22T16:51:52.746309",
     "exception": false,
     "start_time": "2023-11-22T16:51:52.595173",
     "status": "completed"
    },
    "tags": []
   },
   "outputs": [
    {
     "name": "stdout",
     "output_type": "stream",
     "text": [
      "PassengerId    0\n",
      "Survived       0\n",
      "Pclass         0\n",
      "Name           0\n",
      "Sex            0\n",
      "Age            0\n",
      "SibSp          0\n",
      "Parch          0\n",
      "Ticket         0\n",
      "Fare           0\n",
      "Cabin          0\n",
      "Embarked       0\n",
      "dtype: int64\n"
     ]
    }
   ],
   "source": [
    "# Chcek if any missing value is left after handling\n",
    "print(df.isnull().sum())"
   ]
  },
  {
   "cell_type": "code",
   "execution_count": 10,
   "id": "9eacc5fe",
   "metadata": {
    "execution": {
     "iopub.execute_input": "2023-11-22T16:51:52.782350Z",
     "iopub.status.busy": "2023-11-22T16:51:52.781535Z",
     "iopub.status.idle": "2023-11-22T16:51:52.798819Z",
     "shell.execute_reply": "2023-11-22T16:51:52.797019Z"
    },
    "papermill": {
     "duration": 0.039486,
     "end_time": "2023-11-22T16:51:52.802811",
     "exception": false,
     "start_time": "2023-11-22T16:51:52.763325",
     "status": "completed"
    },
    "tags": []
   },
   "outputs": [],
   "source": [
    "#save the dataset\n",
    "df.to_csv('titanic_dataset_cleaned.csv', index=False)"
   ]
  },
  {
   "cell_type": "code",
   "execution_count": 11,
   "id": "ca4b1e25",
   "metadata": {
    "execution": {
     "iopub.execute_input": "2023-11-22T16:51:52.848705Z",
     "iopub.status.busy": "2023-11-22T16:51:52.847868Z",
     "iopub.status.idle": "2023-11-22T16:51:52.853055Z",
     "shell.execute_reply": "2023-11-22T16:51:52.851898Z"
    },
    "papermill": {
     "duration": 0.033648,
     "end_time": "2023-11-22T16:51:52.855961",
     "exception": false,
     "start_time": "2023-11-22T16:51:52.822313",
     "status": "completed"
    },
    "tags": []
   },
   "outputs": [],
   "source": [
    "#visualization of outliers in dataset"
   ]
  },
  {
   "cell_type": "markdown",
   "id": "2250be3c",
   "metadata": {
    "papermill": {
     "duration": 0.01907,
     "end_time": "2023-11-22T16:51:52.892040",
     "exception": false,
     "start_time": "2023-11-22T16:51:52.872970",
     "status": "completed"
    },
    "tags": []
   },
   "source": [
    "**So in given data we can see the diff ranges in age & fare so for these two columns we will check outliers.**"
   ]
  },
  {
   "cell_type": "code",
   "execution_count": 12,
   "id": "6aad4185",
   "metadata": {
    "execution": {
     "iopub.execute_input": "2023-11-22T16:51:52.928375Z",
     "iopub.status.busy": "2023-11-22T16:51:52.927481Z",
     "iopub.status.idle": "2023-11-22T16:51:53.109181Z",
     "shell.execute_reply": "2023-11-22T16:51:53.107619Z"
    },
    "papermill": {
     "duration": 0.204051,
     "end_time": "2023-11-22T16:51:53.112937",
     "exception": false,
     "start_time": "2023-11-22T16:51:52.908886",
     "status": "completed"
    },
    "tags": []
   },
   "outputs": [
    {
     "data": {
      "text/plain": [
       "<Axes: xlabel='Fare'>"
      ]
     },
     "execution_count": 12,
     "metadata": {},
     "output_type": "execute_result"
    },
    {
     "data": {
      "image/png": "[encoded data removed]",
      "text/plain": [
       "<Figure size 640x480 with 1 Axes>"
      ]
     },
     "metadata": {},
     "output_type": "display_data"
    }
   ],
   "source": [
    "sns.boxplot(x=df.Fare,showfliers=False)"
   ]
  },
  {
   "cell_type": "code",
   "execution_count": 13,
   "id": "add8a40e",
   "metadata": {
    "execution": {
     "iopub.execute_input": "2023-11-22T16:51:53.149523Z",
     "iopub.status.busy": "2023-11-22T16:51:53.148486Z",
     "iopub.status.idle": "2023-11-22T16:51:53.372891Z",
     "shell.execute_reply": "2023-11-22T16:51:53.371290Z"
    },
    "papermill": {
     "duration": 0.245997,
     "end_time": "2023-11-22T16:51:53.375827",
     "exception": false,
     "start_time": "2023-11-22T16:51:53.129830",
     "status": "completed"
    },
    "tags": []
   },
   "outputs": [
    {
     "data": {
      "text/plain": [
       "<Axes: xlabel='Age'>"
      ]
     },
     "execution_count": 13,
     "metadata": {},
     "output_type": "execute_result"
    },
    {
     "data": {
      "image/png": "[encoded data removed]",
      "text/plain": [
       "<Figure size 640x480 with 1 Axes>"
      ]
     },
     "metadata": {},
     "output_type": "display_data"
    }
   ],
   "source": [
    "sns.boxplot(x=df.Age,showfliers=False)"
   ]
  },
  {
   "cell_type": "code",
   "execution_count": 14,
   "id": "90cc3107",
   "metadata": {
    "execution": {
     "iopub.execute_input": "2023-11-22T16:51:53.412283Z",
     "iopub.status.busy": "2023-11-22T16:51:53.411775Z",
     "iopub.status.idle": "2023-11-22T16:51:53.420012Z",
     "shell.execute_reply": "2023-11-22T16:51:53.418368Z"
    },
    "papermill": {
     "duration": 0.029767,
     "end_time": "2023-11-22T16:51:53.422745",
     "exception": false,
     "start_time": "2023-11-22T16:51:53.392978",
     "status": "completed"
    },
    "tags": []
   },
   "outputs": [],
   "source": [
    "#check the outliers for fare column\n",
    "def remove_outliers_IQR(df, Fare, threshold=1.5):\n",
    "    Q1 = df[\"Fare\"].quantile(0.25)\n",
    "    Q3 = df[\"Fare\"].quantile(0.75)\n",
    "    IQR = Q3 - Q1\n",
    "    lower_bound = Q1 - threshold * IQR\n",
    "    upper_bound = Q3 + threshold * IQR\n",
    "    return df[(df[\"Fare\"] >= lower_bound) & (df['Fare'] <= upper_bound)]"
   ]
  },
  {
   "cell_type": "code",
   "execution_count": 15,
   "id": "4fbab66c",
   "metadata": {
    "execution": {
     "iopub.execute_input": "2023-11-22T16:51:53.460348Z",
     "iopub.status.busy": "2023-11-22T16:51:53.459948Z",
     "iopub.status.idle": "2023-11-22T16:51:53.469673Z",
     "shell.execute_reply": "2023-11-22T16:51:53.468712Z"
    },
    "papermill": {
     "duration": 0.033123,
     "end_time": "2023-11-22T16:51:53.472846",
     "exception": false,
     "start_time": "2023-11-22T16:51:53.439723",
     "status": "completed"
    },
    "tags": []
   },
   "outputs": [],
   "source": [
    "#here df1 is new dataframe with no missing values and without outliers in fare column\n",
    "columns_to_check = ['Fare']\n",
    "for col in columns_to_check:\n",
    "    df1= remove_outliers_IQR(df, col)"
   ]
  },
  {
   "cell_type": "code",
   "execution_count": 16,
   "id": "9695c78d",
   "metadata": {
    "execution": {
     "iopub.execute_input": "2023-11-22T16:51:53.509513Z",
     "iopub.status.busy": "2023-11-22T16:51:53.508702Z",
     "iopub.status.idle": "2023-11-22T16:51:53.794625Z",
     "shell.execute_reply": "2023-11-22T16:51:53.793211Z"
    },
    "papermill": {
     "duration": 0.308622,
     "end_time": "2023-11-22T16:51:53.798421",
     "exception": false,
     "start_time": "2023-11-22T16:51:53.489799",
     "status": "completed"
    },
    "tags": []
   },
   "outputs": [
    {
     "data": {
      "image/png": "[encoded data removed]",
      "text/plain": [
       "<Figure size 1000x600 with 1 Axes>"
      ]
     },
     "metadata": {},
     "output_type": "display_data"
    }
   ],
   "source": [
    "#comparsion between with and without outliers in fare column for better understanding\n",
    "plt.figure(figsize=(10, 6))\n",
    "plt.boxplot([df['Fare'], df1['Fare']], labels=['With Outliers', 'Without Outliers'])\n",
    "plt.title('Comparison of Fare with and without outliers')\n",
    "plt.xlabel('Data with and without outliers')\n",
    "plt.ylabel('Fare Values')\n",
    "plt.show()"
   ]
  },
  {
   "cell_type": "code",
   "execution_count": 17,
   "id": "95e45e41",
   "metadata": {
    "execution": {
     "iopub.execute_input": "2023-11-22T16:51:53.838828Z",
     "iopub.status.busy": "2023-11-22T16:51:53.838060Z",
     "iopub.status.idle": "2023-11-22T16:51:53.845250Z",
     "shell.execute_reply": "2023-11-22T16:51:53.844354Z"
    },
    "papermill": {
     "duration": 0.029988,
     "end_time": "2023-11-22T16:51:53.847796",
     "exception": false,
     "start_time": "2023-11-22T16:51:53.817808",
     "status": "completed"
    },
    "tags": []
   },
   "outputs": [],
   "source": [
    "#check the outliers for age column\n",
    "def remove_outliers_IQR(df, Fare, threshold=1.5):\n",
    "    Q1 = df1[\"Age\"].quantile(0.25)\n",
    "    Q3 = df1[\"Age\"].quantile(0.75)\n",
    "    IQR = Q3 - Q1\n",
    "    lower_bound = Q1 - threshold * IQR\n",
    "    upper_bound = Q3 + threshold * IQR\n",
    "    return df1[(df1[\"Age\"] >= lower_bound) & (df1['Age'] <= upper_bound)]"
   ]
  },
  {
   "cell_type": "code",
   "execution_count": 18,
   "id": "a863c72f",
   "metadata": {
    "execution": {
     "iopub.execute_input": "2023-11-22T16:51:53.887323Z",
     "iopub.status.busy": "2023-11-22T16:51:53.886633Z",
     "iopub.status.idle": "2023-11-22T16:51:53.895976Z",
     "shell.execute_reply": "2023-11-22T16:51:53.895089Z"
    },
    "papermill": {
     "duration": 0.032612,
     "end_time": "2023-11-22T16:51:53.898628",
     "exception": false,
     "start_time": "2023-11-22T16:51:53.866016",
     "status": "completed"
    },
    "tags": []
   },
   "outputs": [],
   "source": [
    "#here df2 is new dataframe with no missing values and without outliers in age column\n",
    "columns_to_check = ['Age']\n",
    "for col in columns_to_check:\n",
    "    df2 = remove_outliers_IQR(df1, col)"
   ]
  },
  {
   "cell_type": "code",
   "execution_count": 19,
   "id": "7777bef8",
   "metadata": {
    "execution": {
     "iopub.execute_input": "2023-11-22T16:51:53.937379Z",
     "iopub.status.busy": "2023-11-22T16:51:53.936676Z",
     "iopub.status.idle": "2023-11-22T16:51:54.252956Z",
     "shell.execute_reply": "2023-11-22T16:51:54.251720Z"
    },
    "papermill": {
     "duration": 0.339297,
     "end_time": "2023-11-22T16:51:54.255989",
     "exception": false,
     "start_time": "2023-11-22T16:51:53.916692",
     "status": "completed"
    },
    "tags": []
   },
   "outputs": [
    {
     "data": {
      "image/png": "[encoded data removed]",
      "text/plain": [
       "<Figure size 1000x600 with 1 Axes>"
      ]
     },
     "metadata": {},
     "output_type": "display_data"
    }
   ],
   "source": [
    "#comparsion between with and without outliers in age column for better understanding\n",
    "plt.figure(figsize=(10, 6))\n",
    "plt.boxplot([df1['Age'], df2['Age']], labels=['With Outliers', 'Without Outliers'])\n",
    "plt.title('Comparison of Age with and without outliers')\n",
    "plt.xlabel('Data with and without outliers')\n",
    "plt.ylabel('Age Values')\n",
    "plt.show()"
   ]
  },
  {
   "cell_type": "markdown",
   "id": "500ecc65",
   "metadata": {
    "papermill": {
     "duration": 0.017909,
     "end_time": "2023-11-22T16:51:54.292439",
     "exception": false,
     "start_time": "2023-11-22T16:51:54.274530",
     "status": "completed"
    },
    "tags": []
   },
   "source": [
    "# Task 2 : Calculate summary statistics\n",
    "# Calculate summary statistics (mean, median, mode, standard deviation) for a dataset."
   ]
  },
  {
   "cell_type": "code",
   "execution_count": 20,
   "id": "dd1392ba",
   "metadata": {
    "execution": {
     "iopub.execute_input": "2023-11-22T16:51:54.330598Z",
     "iopub.status.busy": "2023-11-22T16:51:54.330153Z",
     "iopub.status.idle": "2023-11-22T16:51:54.335741Z",
     "shell.execute_reply": "2023-11-22T16:51:54.334487Z"
    },
    "papermill": {
     "duration": 0.027876,
     "end_time": "2023-11-22T16:51:54.338474",
     "exception": false,
     "start_time": "2023-11-22T16:51:54.310598",
     "status": "completed"
    },
    "tags": []
   },
   "outputs": [],
   "source": [
    "# import all required libaries\n",
    "import pandas as pd\n",
    "import numpy as np"
   ]
  },
  {
   "cell_type": "code",
   "execution_count": 21,
   "id": "9fb3cdd7",
   "metadata": {
    "execution": {
     "iopub.execute_input": "2023-11-22T16:51:54.378689Z",
     "iopub.status.busy": "2023-11-22T16:51:54.378269Z",
     "iopub.status.idle": "2023-11-22T16:51:54.391948Z",
     "shell.execute_reply": "2023-11-22T16:51:54.390772Z"
    },
    "papermill": {
     "duration": 0.037496,
     "end_time": "2023-11-22T16:51:54.395001",
     "exception": false,
     "start_time": "2023-11-22T16:51:54.357505",
     "status": "completed"
    },
    "tags": []
   },
   "outputs": [],
   "source": [
    "#READ THE DATSET\n",
    "data = pd.read_csv(\"/kaggle/input/tit-dataset/tit.csv\")"
   ]
  },
  {
   "cell_type": "code",
   "execution_count": 22,
   "id": "03668a1a",
   "metadata": {
    "execution": {
     "iopub.execute_input": "2023-11-22T16:51:54.433985Z",
     "iopub.status.busy": "2023-11-22T16:51:54.433564Z",
     "iopub.status.idle": "2023-11-22T16:51:54.469308Z",
     "shell.execute_reply": "2023-11-22T16:51:54.468462Z"
    },
    "papermill": {
     "duration": 0.058001,
     "end_time": "2023-11-22T16:51:54.471672",
     "exception": false,
     "start_time": "2023-11-22T16:51:54.413671",
     "status": "completed"
    },
    "tags": []
   },
   "outputs": [
    {
     "data": {
      "text/html": [
       "<div>\n",
       "<style scoped>\n",
       "    .dataframe tbody tr th:only-of-type {\n",
       "        vertical-align: middle;\n",
       "    }\n",
       "\n",
       "    .dataframe tbody tr th {\n",
       "        vertical-align: top;\n",
       "    }\n",
       "\n",
       "    .dataframe thead th {\n",
       "        text-align: right;\n",
       "    }\n",
       "</style>\n",
       "<table border=\"1\" class=\"dataframe\">\n",
       "  <thead>\n",
       "    <tr style=\"text-align: right;\">\n",
       "      <th></th>\n",
       "      <th>PassengerId</th>\n",
       "      <th>Survived</th>\n",
       "      <th>Pclass</th>\n",
       "      <th>Age</th>\n",
       "      <th>SibSp</th>\n",
       "      <th>Parch</th>\n",
       "      <th>Fare</th>\n",
       "    </tr>\n",
       "  </thead>\n",
       "  <tbody>\n",
       "    <tr>\n",
       "      <th>count</th>\n",
       "      <td>156.000000</td>\n",
       "      <td>156.000000</td>\n",
       "      <td>156.000000</td>\n",
       "      <td>126.000000</td>\n",
       "      <td>156.000000</td>\n",
       "      <td>156.000000</td>\n",
       "      <td>156.000000</td>\n",
       "    </tr>\n",
       "    <tr>\n",
       "      <th>mean</th>\n",
       "      <td>78.500000</td>\n",
       "      <td>0.346154</td>\n",
       "      <td>2.423077</td>\n",
       "      <td>28.141508</td>\n",
       "      <td>0.615385</td>\n",
       "      <td>0.397436</td>\n",
       "      <td>28.109587</td>\n",
       "    </tr>\n",
       "    <tr>\n",
       "      <th>std</th>\n",
       "      <td>45.177428</td>\n",
       "      <td>0.477275</td>\n",
       "      <td>0.795459</td>\n",
       "      <td>14.613880</td>\n",
       "      <td>1.056235</td>\n",
       "      <td>0.870146</td>\n",
       "      <td>39.401047</td>\n",
       "    </tr>\n",
       "    <tr>\n",
       "      <th>min</th>\n",
       "      <td>1.000000</td>\n",
       "      <td>0.000000</td>\n",
       "      <td>1.000000</td>\n",
       "      <td>0.830000</td>\n",
       "      <td>0.000000</td>\n",
       "      <td>0.000000</td>\n",
       "      <td>6.750000</td>\n",
       "    </tr>\n",
       "    <tr>\n",
       "      <th>25%</th>\n",
       "      <td>39.750000</td>\n",
       "      <td>0.000000</td>\n",
       "      <td>2.000000</td>\n",
       "      <td>19.000000</td>\n",
       "      <td>0.000000</td>\n",
       "      <td>0.000000</td>\n",
       "      <td>8.003150</td>\n",
       "    </tr>\n",
       "    <tr>\n",
       "      <th>50%</th>\n",
       "      <td>78.500000</td>\n",
       "      <td>0.000000</td>\n",
       "      <td>3.000000</td>\n",
       "      <td>26.000000</td>\n",
       "      <td>0.000000</td>\n",
       "      <td>0.000000</td>\n",
       "      <td>14.454200</td>\n",
       "    </tr>\n",
       "    <tr>\n",
       "      <th>75%</th>\n",
       "      <td>117.250000</td>\n",
       "      <td>1.000000</td>\n",
       "      <td>3.000000</td>\n",
       "      <td>35.000000</td>\n",
       "      <td>1.000000</td>\n",
       "      <td>0.000000</td>\n",
       "      <td>30.371850</td>\n",
       "    </tr>\n",
       "    <tr>\n",
       "      <th>max</th>\n",
       "      <td>156.000000</td>\n",
       "      <td>1.000000</td>\n",
       "      <td>3.000000</td>\n",
       "      <td>71.000000</td>\n",
       "      <td>5.000000</td>\n",
       "      <td>5.000000</td>\n",
       "      <td>263.000000</td>\n",
       "    </tr>\n",
       "  </tbody>\n",
       "</table>\n",
       "</div>"
      ],
      "text/plain": [
       "       PassengerId    Survived      Pclass         Age       SibSp  \\\n",
       "count   156.000000  156.000000  156.000000  126.000000  156.000000   \n",
       "mean     78.500000    0.346154    2.423077   28.141508    0.615385   \n",
       "std      45.177428    0.477275    0.795459   14.613880    1.056235   \n",
       "min       1.000000    0.000000    1.000000    0.830000    0.000000   \n",
       "25%      39.750000    0.000000    2.000000   19.000000    0.000000   \n",
       "50%      78.500000    0.000000    3.000000   26.000000    0.000000   \n",
       "75%     117.250000    1.000000    3.000000   35.000000    1.000000   \n",
       "max     156.000000    1.000000    3.000000   71.000000    5.000000   \n",
       "\n",
       "            Parch        Fare  \n",
       "count  156.000000  156.000000  \n",
       "mean     0.397436   28.109587  \n",
       "std      0.870146   39.401047  \n",
       "min      0.000000    6.750000  \n",
       "25%      0.000000    8.003150  \n",
       "50%      0.000000   14.454200  \n",
       "75%      0.000000   30.371850  \n",
       "max      5.000000  263.000000  "
      ]
     },
     "execution_count": 22,
     "metadata": {},
     "output_type": "execute_result"
    }
   ],
   "source": [
    "# Summary statistics\n",
    "data.describe()"
   ]
  },
  {
   "cell_type": "code",
   "execution_count": 23,
   "id": "b89f0a55",
   "metadata": {
    "execution": {
     "iopub.execute_input": "2023-11-22T16:51:54.512691Z",
     "iopub.status.busy": "2023-11-22T16:51:54.511262Z",
     "iopub.status.idle": "2023-11-22T16:51:54.520106Z",
     "shell.execute_reply": "2023-11-22T16:51:54.518785Z"
    },
    "papermill": {
     "duration": 0.031998,
     "end_time": "2023-11-22T16:51:54.522795",
     "exception": false,
     "start_time": "2023-11-22T16:51:54.490797",
     "status": "completed"
    },
    "tags": []
   },
   "outputs": [
    {
     "name": "stdout",
     "output_type": "stream",
     "text": [
      "Categorical columns: ['Lname', 'Name', 'Sex', 'Ticket', 'Cabin', 'Embarked']\n",
      "Numerical columns: ['PassengerId', 'Survived', 'Pclass', 'Age', 'SibSp', 'Parch', 'Fare']\n"
     ]
    }
   ],
   "source": [
    "# Identify categorical columns\n",
    "categorical_columns = data.select_dtypes(include=['object', 'category']).columns.tolist()\n",
    "print(\"Categorical columns:\",categorical_columns)\n",
    "\n",
    "# Identify numerical columns\n",
    "numerical_columns = data.select_dtypes(include=['int64', 'float64']).columns.tolist()\n",
    "print(\"Numerical columns:\",numerical_columns)"
   ]
  },
  {
   "cell_type": "markdown",
   "id": "2f4ebbfd",
   "metadata": {
    "papermill": {
     "duration": 0.01904,
     "end_time": "2023-11-22T16:51:54.561884",
     "exception": false,
     "start_time": "2023-11-22T16:51:54.542844",
     "status": "completed"
    },
    "tags": []
   },
   "source": [
    "**Now we will perform statistics for numerical column i.e selected_columns.**"
   ]
  },
  {
   "cell_type": "code",
   "execution_count": 24,
   "id": "c1ed0f71",
   "metadata": {
    "execution": {
     "iopub.execute_input": "2023-11-22T16:51:54.603438Z",
     "iopub.status.busy": "2023-11-22T16:51:54.602686Z",
     "iopub.status.idle": "2023-11-22T16:51:54.609320Z",
     "shell.execute_reply": "2023-11-22T16:51:54.608493Z"
    },
    "papermill": {
     "duration": 0.030492,
     "end_time": "2023-11-22T16:51:54.611734",
     "exception": false,
     "start_time": "2023-11-22T16:51:54.581242",
     "status": "completed"
    },
    "tags": []
   },
   "outputs": [],
   "source": [
    "selected_columns = data.loc[:, numerical_columns]"
   ]
  },
  {
   "cell_type": "code",
   "execution_count": 25,
   "id": "111b7710",
   "metadata": {
    "execution": {
     "iopub.execute_input": "2023-11-22T16:51:54.653281Z",
     "iopub.status.busy": "2023-11-22T16:51:54.652567Z",
     "iopub.status.idle": "2023-11-22T16:51:54.660951Z",
     "shell.execute_reply": "2023-11-22T16:51:54.659841Z"
    },
    "papermill": {
     "duration": 0.032658,
     "end_time": "2023-11-22T16:51:54.663549",
     "exception": false,
     "start_time": "2023-11-22T16:51:54.630891",
     "status": "completed"
    },
    "tags": []
   },
   "outputs": [
    {
     "name": "stdout",
     "output_type": "stream",
     "text": [
      "Mean for each column: PassengerId    78.500000\n",
      "Survived        0.346154\n",
      "Pclass          2.423077\n",
      "Age            28.141508\n",
      "SibSp           0.615385\n",
      "Parch           0.397436\n",
      "Fare           28.109587\n",
      "dtype: float64\n"
     ]
    }
   ],
   "source": [
    "#lets check for mean for each column\n",
    "column_means = selected_columns.mean()\n",
    "print(\"Mean for each column:\" ,column_means )"
   ]
  },
  {
   "cell_type": "code",
   "execution_count": 26,
   "id": "b8ec9860",
   "metadata": {
    "execution": {
     "iopub.execute_input": "2023-11-22T16:51:54.705662Z",
     "iopub.status.busy": "2023-11-22T16:51:54.704880Z",
     "iopub.status.idle": "2023-11-22T16:51:54.714969Z",
     "shell.execute_reply": "2023-11-22T16:51:54.713855Z"
    },
    "papermill": {
     "duration": 0.035393,
     "end_time": "2023-11-22T16:51:54.718029",
     "exception": false,
     "start_time": "2023-11-22T16:51:54.682636",
     "status": "completed"
    },
    "tags": []
   },
   "outputs": [
    {
     "name": "stdout",
     "output_type": "stream",
     "text": [
      "Median for each column: PassengerId    78.5000\n",
      "Survived        0.0000\n",
      "Pclass          3.0000\n",
      "Age            26.0000\n",
      "SibSp           0.0000\n",
      "Parch           0.0000\n",
      "Fare           14.4542\n",
      "dtype: float64\n"
     ]
    }
   ],
   "source": [
    "#lets check for median for each column\n",
    "column_median = selected_columns.median()\n",
    "print(\"Median for each column:\" ,column_median )"
   ]
  },
  {
   "cell_type": "code",
   "execution_count": 27,
   "id": "a98a726e",
   "metadata": {
    "execution": {
     "iopub.execute_input": "2023-11-22T16:51:54.759371Z",
     "iopub.status.busy": "2023-11-22T16:51:54.758903Z",
     "iopub.status.idle": "2023-11-22T16:51:54.773799Z",
     "shell.execute_reply": "2023-11-22T16:51:54.772456Z"
    },
    "papermill": {
     "duration": 0.038788,
     "end_time": "2023-11-22T16:51:54.776228",
     "exception": false,
     "start_time": "2023-11-22T16:51:54.737440",
     "status": "completed"
    },
    "tags": []
   },
   "outputs": [
    {
     "name": "stdout",
     "output_type": "stream",
     "text": [
      "Modes for each column: PassengerId     1.00\n",
      "Survived        0.00\n",
      "Pclass          3.00\n",
      "Age            21.00\n",
      "SibSp           0.00\n",
      "Parch           0.00\n",
      "Fare            8.05\n",
      "Name: 0, dtype: float64\n"
     ]
    }
   ],
   "source": [
    "#lets check for mode for each column\n",
    "column_modes = selected_columns.mode().iloc[0]\n",
    "print(\"Modes for each column:\" ,column_modes )"
   ]
  },
  {
   "cell_type": "code",
   "execution_count": 28,
   "id": "fafd1a30",
   "metadata": {
    "execution": {
     "iopub.execute_input": "2023-11-22T16:51:54.818605Z",
     "iopub.status.busy": "2023-11-22T16:51:54.817433Z",
     "iopub.status.idle": "2023-11-22T16:51:54.826902Z",
     "shell.execute_reply": "2023-11-22T16:51:54.825296Z"
    },
    "papermill": {
     "duration": 0.03401,
     "end_time": "2023-11-22T16:51:54.829794",
     "exception": false,
     "start_time": "2023-11-22T16:51:54.795784",
     "status": "completed"
    },
    "tags": []
   },
   "outputs": [
    {
     "name": "stdout",
     "output_type": "stream",
     "text": [
      "Standard Deviation for each column: PassengerId    45.177428\n",
      "Survived        0.477275\n",
      "Pclass          0.795459\n",
      "Age            14.613880\n",
      "SibSp           1.056235\n",
      "Parch           0.870146\n",
      "Fare           39.401047\n",
      "dtype: float64\n"
     ]
    }
   ],
   "source": [
    "#lets check for standard deviation for each column\n",
    "column_std_deviation = selected_columns.std()\n",
    "print(\"Standard Deviation for each column:\" ,column_std_deviation )"
   ]
  },
  {
   "cell_type": "markdown",
   "id": "854444d9",
   "metadata": {
    "papermill": {
     "duration": 0.020183,
     "end_time": "2023-11-22T16:51:54.870116",
     "exception": false,
     "start_time": "2023-11-22T16:51:54.849933",
     "status": "completed"
    },
    "tags": []
   },
   "source": [
    "**so from above we know that for sex & survived have only two variables, the we can check for groupby mean.**"
   ]
  },
  {
   "cell_type": "code",
   "execution_count": 29,
   "id": "1f8c8fb2",
   "metadata": {
    "execution": {
     "iopub.execute_input": "2023-11-22T16:51:54.911163Z",
     "iopub.status.busy": "2023-11-22T16:51:54.910752Z",
     "iopub.status.idle": "2023-11-22T16:51:54.928854Z",
     "shell.execute_reply": "2023-11-22T16:51:54.927688Z"
    },
    "papermill": {
     "duration": 0.041572,
     "end_time": "2023-11-22T16:51:54.931267",
     "exception": false,
     "start_time": "2023-11-22T16:51:54.889695",
     "status": "completed"
    },
    "tags": []
   },
   "outputs": [
    {
     "data": {
      "text/plain": [
       "Sex     Survived\n",
       "female  0           20.633333\n",
       "        1           26.265625\n",
       "male    0           31.228571\n",
       "        1           23.314444\n",
       "Name: Age, dtype: float64"
      ]
     },
     "execution_count": 29,
     "metadata": {},
     "output_type": "execute_result"
    }
   ],
   "source": [
    "data.groupby([\"Sex\", \"Survived\"])[\"Age\"].mean()"
   ]
  },
  {
   "cell_type": "markdown",
   "id": "334dbabf",
   "metadata": {
    "papermill": {
     "duration": 0.019138,
     "end_time": "2023-11-22T16:51:54.969616",
     "exception": false,
     "start_time": "2023-11-22T16:51:54.950478",
     "status": "completed"
    },
    "tags": []
   },
   "source": [
    "# Task 3 : Visualization using Histogram\n",
    "# Create a histogram or bar chart to visualize the distribution of data in a dataset."
   ]
  },
  {
   "cell_type": "code",
   "execution_count": 30,
   "id": "5a69275a",
   "metadata": {
    "execution": {
     "iopub.execute_input": "2023-11-22T16:51:55.010875Z",
     "iopub.status.busy": "2023-11-22T16:51:55.010150Z",
     "iopub.status.idle": "2023-11-22T16:51:55.015864Z",
     "shell.execute_reply": "2023-11-22T16:51:55.014642Z"
    },
    "papermill": {
     "duration": 0.029649,
     "end_time": "2023-11-22T16:51:55.018764",
     "exception": false,
     "start_time": "2023-11-22T16:51:54.989115",
     "status": "completed"
    },
    "tags": []
   },
   "outputs": [],
   "source": [
    "# import all required libaries\n",
    "import matplotlib.pyplot as plt"
   ]
  },
  {
   "cell_type": "code",
   "execution_count": 31,
   "id": "74c316c5",
   "metadata": {
    "execution": {
     "iopub.execute_input": "2023-11-22T16:51:55.060190Z",
     "iopub.status.busy": "2023-11-22T16:51:55.059307Z",
     "iopub.status.idle": "2023-11-22T16:51:55.383534Z",
     "shell.execute_reply": "2023-11-22T16:51:55.382283Z"
    },
    "papermill": {
     "duration": 0.347971,
     "end_time": "2023-11-22T16:51:55.386547",
     "exception": false,
     "start_time": "2023-11-22T16:51:55.038576",
     "status": "completed"
    },
    "tags": []
   },
   "outputs": [
    {
     "data": {
      "image/png": "[encoded data removed]",
      "text/plain": [
       "<Figure size 800x600 with 1 Axes>"
      ]
     },
     "metadata": {},
     "output_type": "display_data"
    }
   ],
   "source": [
    "# Let's create a histogram for the 'Age' column\n",
    "\n",
    "# Create the histogram\n",
    "plt.figure(figsize=(8, 6)) \n",
    "plt.hist(df2['Age'], bins=20, color='skyblue', edgecolor='black')\n",
    "\n",
    "# Add labels and a title\n",
    "plt.xlabel('Age')\n",
    "plt.ylabel('Frequency')\n",
    "plt.title('Distribution of Age in Titanic Dataset')\n",
    "\n",
    "# Show the histogram\n",
    "plt.show()"
   ]
  },
  {
   "cell_type": "code",
   "execution_count": 32,
   "id": "4070e403",
   "metadata": {
    "execution": {
     "iopub.execute_input": "2023-11-22T16:51:55.430657Z",
     "iopub.status.busy": "2023-11-22T16:51:55.429873Z",
     "iopub.status.idle": "2023-11-22T16:51:55.707908Z",
     "shell.execute_reply": "2023-11-22T16:51:55.706653Z"
    },
    "papermill": {
     "duration": 0.303488,
     "end_time": "2023-11-22T16:51:55.710639",
     "exception": false,
     "start_time": "2023-11-22T16:51:55.407151",
     "status": "completed"
    },
    "tags": []
   },
   "outputs": [
    {
     "data": {
      "image/png": "[encoded data removed]",
      "text/plain": [
       "<Figure size 600x400 with 1 Axes>"
      ]
     },
     "metadata": {},
     "output_type": "display_data"
    }
   ],
   "source": [
    "# Let's create a bar chart for count survived passengers for each gender\n",
    "\n",
    "# Get unique values of Sex\n",
    "unique_genders = df2['Sex'].unique()\n",
    "\n",
    "# Count survived passengers for each gender\n",
    "survived_counts = {}\n",
    "for gender in unique_genders:\n",
    "    survived_counts[gender] = df2[df2['Sex'] == gender]['Survived'].sum()\n",
    "\n",
    "# Convert survived_counts to a list\n",
    "survived_counts_list = list(survived_counts.values())\n",
    "\n",
    "# Create a list of corresponding genders\n",
    "gender_list = list(survived_counts.keys())\n",
    "\n",
    "# Plotting the bar chart\n",
    "plt.figure(figsize=(6, 4))\n",
    "plt.bar(gender_list, survived_counts_list, color='skyblue')\n",
    "plt.title('Number of Survived by Gender')\n",
    "plt.xlabel('Gender')\n",
    "plt.ylabel('Number Of Survived')\n",
    "# Show the plot\n",
    "plt.show()"
   ]
  },
  {
   "cell_type": "markdown",
   "id": "df99ad50",
   "metadata": {
    "papermill": {
     "duration": 0.020399,
     "end_time": "2023-11-22T16:51:55.751752",
     "exception": false,
     "start_time": "2023-11-22T16:51:55.731353",
     "status": "completed"
    },
    "tags": []
   },
   "source": [
    "# Task 4 : Pivote Table\n",
    "# Use pivot tables to summarize data in a dataset."
   ]
  },
  {
   "cell_type": "code",
   "execution_count": 33,
   "id": "f046abc8",
   "metadata": {
    "execution": {
     "iopub.execute_input": "2023-11-22T16:51:55.797326Z",
     "iopub.status.busy": "2023-11-22T16:51:55.796529Z",
     "iopub.status.idle": "2023-11-22T16:51:55.803363Z",
     "shell.execute_reply": "2023-11-22T16:51:55.801515Z"
    },
    "papermill": {
     "duration": 0.033159,
     "end_time": "2023-11-22T16:51:55.806293",
     "exception": false,
     "start_time": "2023-11-22T16:51:55.773134",
     "status": "completed"
    },
    "tags": []
   },
   "outputs": [],
   "source": [
    "# import all required libaries\n",
    "import pandas as pd\n",
    "import numpy as np\n",
    "import seaborn as sns\n",
    "import matplotlib.pyplot as plt"
   ]
  },
  {
   "cell_type": "code",
   "execution_count": 34,
   "id": "10554d37",
   "metadata": {
    "execution": {
     "iopub.execute_input": "2023-11-22T16:51:55.850579Z",
     "iopub.status.busy": "2023-11-22T16:51:55.850069Z",
     "iopub.status.idle": "2023-11-22T16:51:55.870217Z",
     "shell.execute_reply": "2023-11-22T16:51:55.868825Z"
    },
    "papermill": {
     "duration": 0.045368,
     "end_time": "2023-11-22T16:51:55.872759",
     "exception": false,
     "start_time": "2023-11-22T16:51:55.827391",
     "status": "completed"
    },
    "tags": []
   },
   "outputs": [
    {
     "data": {
      "text/html": [
       "<div>\n",
       "<style scoped>\n",
       "    .dataframe tbody tr th:only-of-type {\n",
       "        vertical-align: middle;\n",
       "    }\n",
       "\n",
       "    .dataframe tbody tr th {\n",
       "        vertical-align: top;\n",
       "    }\n",
       "\n",
       "    .dataframe thead th {\n",
       "        text-align: right;\n",
       "    }\n",
       "</style>\n",
       "<table border=\"1\" class=\"dataframe\">\n",
       "  <thead>\n",
       "    <tr style=\"text-align: right;\">\n",
       "      <th></th>\n",
       "      <th>Age</th>\n",
       "      <th>Fare</th>\n",
       "    </tr>\n",
       "    <tr>\n",
       "      <th>Sex</th>\n",
       "      <th></th>\n",
       "      <th></th>\n",
       "    </tr>\n",
       "  </thead>\n",
       "  <tbody>\n",
       "    <tr>\n",
       "      <th>female</th>\n",
       "      <td>24.468085</td>\n",
       "      <td>28.460639</td>\n",
       "    </tr>\n",
       "    <tr>\n",
       "      <th>male</th>\n",
       "      <td>30.326962</td>\n",
       "      <td>27.912998</td>\n",
       "    </tr>\n",
       "  </tbody>\n",
       "</table>\n",
       "</div>"
      ],
      "text/plain": [
       "              Age       Fare\n",
       "Sex                         \n",
       "female  24.468085  28.460639\n",
       "male    30.326962  27.912998"
      ]
     },
     "execution_count": 34,
     "metadata": {},
     "output_type": "execute_result"
    }
   ],
   "source": [
    "# Pivot table show mean of Age & Fare for each gender\n",
    "table= pd.pivot_table(data=data,index=['Sex'],values=['Age','Fare'],aggfunc='mean')\n",
    "table"
   ]
  },
  {
   "cell_type": "code",
   "execution_count": 35,
   "id": "0ac59093",
   "metadata": {
    "execution": {
     "iopub.execute_input": "2023-11-22T16:51:55.916245Z",
     "iopub.status.busy": "2023-11-22T16:51:55.915772Z",
     "iopub.status.idle": "2023-11-22T16:51:56.203284Z",
     "shell.execute_reply": "2023-11-22T16:51:56.201967Z"
    },
    "papermill": {
     "duration": 0.312537,
     "end_time": "2023-11-22T16:51:56.206058",
     "exception": false,
     "start_time": "2023-11-22T16:51:55.893521",
     "status": "completed"
    },
    "tags": []
   },
   "outputs": [
    {
     "data": {
      "text/plain": [
       "<Axes: xlabel='Sex'>"
      ]
     },
     "execution_count": 35,
     "metadata": {},
     "output_type": "execute_result"
    },
    {
     "data": {
      "image/png": "[encoded data removed]",
      "text/plain": [
       "<Figure size 640x480 with 1 Axes>"
      ]
     },
     "metadata": {},
     "output_type": "display_data"
    }
   ],
   "source": [
    "#Let's create a bar chart for show mean of Age & Fare for each gender\n",
    "table.plot(kind=\"bar\")"
   ]
  },
  {
   "cell_type": "code",
   "execution_count": 36,
   "id": "c9450ee5",
   "metadata": {
    "execution": {
     "iopub.execute_input": "2023-11-22T16:51:56.251177Z",
     "iopub.status.busy": "2023-11-22T16:51:56.250720Z",
     "iopub.status.idle": "2023-11-22T16:51:56.275217Z",
     "shell.execute_reply": "2023-11-22T16:51:56.273731Z"
    },
    "papermill": {
     "duration": 0.051014,
     "end_time": "2023-11-22T16:51:56.278511",
     "exception": false,
     "start_time": "2023-11-22T16:51:56.227497",
     "status": "completed"
    },
    "tags": []
   },
   "outputs": [
    {
     "data": {
      "text/html": [
       "<div>\n",
       "<style scoped>\n",
       "    .dataframe tbody tr th:only-of-type {\n",
       "        vertical-align: middle;\n",
       "    }\n",
       "\n",
       "    .dataframe tbody tr th {\n",
       "        vertical-align: top;\n",
       "    }\n",
       "\n",
       "    .dataframe thead th {\n",
       "        text-align: right;\n",
       "    }\n",
       "</style>\n",
       "<table border=\"1\" class=\"dataframe\">\n",
       "  <thead>\n",
       "    <tr style=\"text-align: right;\">\n",
       "      <th></th>\n",
       "      <th></th>\n",
       "      <th>Age</th>\n",
       "      <th>Survived</th>\n",
       "    </tr>\n",
       "    <tr>\n",
       "      <th>Sex</th>\n",
       "      <th>Embarked</th>\n",
       "      <th></th>\n",
       "      <th></th>\n",
       "    </tr>\n",
       "  </thead>\n",
       "  <tbody>\n",
       "    <tr>\n",
       "      <th rowspan=\"3\" valign=\"top\">female</th>\n",
       "      <th>C</th>\n",
       "      <td>24.839824</td>\n",
       "      <td>26</td>\n",
       "    </tr>\n",
       "    <tr>\n",
       "      <th>Q</th>\n",
       "      <td>27.750824</td>\n",
       "      <td>26</td>\n",
       "    </tr>\n",
       "    <tr>\n",
       "      <th>S</th>\n",
       "      <td>27.234542</td>\n",
       "      <td>103</td>\n",
       "    </tr>\n",
       "    <tr>\n",
       "      <th rowspan=\"3\" valign=\"top\">male</th>\n",
       "      <th>C</th>\n",
       "      <td>29.382029</td>\n",
       "      <td>18</td>\n",
       "    </tr>\n",
       "    <tr>\n",
       "      <th>Q</th>\n",
       "      <td>27.749387</td>\n",
       "      <td>3</td>\n",
       "    </tr>\n",
       "    <tr>\n",
       "      <th>S</th>\n",
       "      <td>29.232910</td>\n",
       "      <td>59</td>\n",
       "    </tr>\n",
       "  </tbody>\n",
       "</table>\n",
       "</div>"
      ],
      "text/plain": [
       "                       Age  Survived\n",
       "Sex    Embarked                     \n",
       "female C         24.839824        26\n",
       "       Q         27.750824        26\n",
       "       S         27.234542       103\n",
       "male   C         29.382029        18\n",
       "       Q         27.749387         3\n",
       "       S         29.232910        59"
      ]
     },
     "execution_count": 36,
     "metadata": {},
     "output_type": "execute_result"
    }
   ],
   "source": [
    "# Pivot table show Age and Survived by Sex and Embarked\n",
    "table= pd.pivot_table(data=df2,index=['Sex','Embarked'],values=['Age','Survived'],aggfunc={'Age':np.mean,'Survived':np.sum})\n",
    "table"
   ]
  },
  {
   "cell_type": "code",
   "execution_count": 37,
   "id": "0c0b21c2",
   "metadata": {
    "execution": {
     "iopub.execute_input": "2023-11-22T16:51:56.324655Z",
     "iopub.status.busy": "2023-11-22T16:51:56.324217Z",
     "iopub.status.idle": "2023-11-22T16:51:56.673580Z",
     "shell.execute_reply": "2023-11-22T16:51:56.672433Z"
    },
    "papermill": {
     "duration": 0.375821,
     "end_time": "2023-11-22T16:51:56.676159",
     "exception": false,
     "start_time": "2023-11-22T16:51:56.300338",
     "status": "completed"
    },
    "tags": []
   },
   "outputs": [
    {
     "data": {
      "image/png": "[encoded data removed]",
      "text/plain": [
       "<Figure size 1000x600 with 2 Axes>"
      ]
     },
     "metadata": {},
     "output_type": "display_data"
    }
   ],
   "source": [
    "# Let's create a Heatmap for Age and Survived by Sex and Embarked\n",
    "plt.figure(figsize=(10,6))\n",
    "sns.heatmap(table, annot=True, cmap='coolwarm')\n",
    "plt.title('Heatmap of Age and Survived by Sex and Embarked')\n",
    "plt.xlabel('Embarked')\n",
    "plt.ylabel('Sex')\n",
    "plt.show()"
   ]
  },
  {
   "cell_type": "markdown",
   "id": "ac53cc4f",
   "metadata": {
    "papermill": {
     "duration": 0.025567,
     "end_time": "2023-11-22T16:51:56.725490",
     "exception": false,
     "start_time": "2023-11-22T16:51:56.699923",
     "status": "completed"
    },
    "tags": []
   },
   "source": [
    "# Task 5 : Remove Duplication\n",
    "# Identify and remove duplicate values in a dataset."
   ]
  },
  {
   "cell_type": "code",
   "execution_count": 38,
   "id": "1a007558",
   "metadata": {
    "execution": {
     "iopub.execute_input": "2023-11-22T16:51:56.773704Z",
     "iopub.status.busy": "2023-11-22T16:51:56.772931Z",
     "iopub.status.idle": "2023-11-22T16:51:56.784989Z",
     "shell.execute_reply": "2023-11-22T16:51:56.783478Z"
    },
    "papermill": {
     "duration": 0.039572,
     "end_time": "2023-11-22T16:51:56.787805",
     "exception": false,
     "start_time": "2023-11-22T16:51:56.748233",
     "status": "completed"
    },
    "tags": []
   },
   "outputs": [
    {
     "name": "stdout",
     "output_type": "stream",
     "text": [
      "Total of duplicates: 0\n",
      "Shape after removing duplicates: (156, 13)\n"
     ]
    }
   ],
   "source": [
    "#Print DataFrame to see how many duplicates.\n",
    "print(\"Total of duplicates:\", data.duplicated().sum())\n",
    "\n",
    "data = data.drop_duplicates()\n",
    "\n",
    "# Print the shape of the DataFrame to see how many duplicates were removed\n",
    "print(\"Shape after removing duplicates:\", data.shape)"
   ]
  }
 ],
 "metadata": {
  "kaggle": {
   "accelerator": "none",
   "dataSources": [
    {
     "datasetId": 3984183,
     "sourceId": 6937860,
     "sourceType": "datasetVersion"
    },
    {
     "datasetId": 3985374,
     "sourceId": 6939728,
     "sourceType": "datasetVersion"
    }
   ],
   "dockerImageVersionId": 30579,
   "isGpuEnabled": false,
   "isInternetEnabled": true,
   "language": "python",
   "sourceType": "notebook"
  },
  "kernelspec": {
   "display_name": "Python 3",
   "language": "python",
   "name": "python3"
  },
  "language_info": {
   "codemirror_mode": {
    "name": "ipython",
    "version": 3
   },
   "file_extension": ".py",
   "mimetype": "text/x-python",
   "name": "python",
   "nbconvert_exporter": "python",
   "pygments_lexer": "ipython3",
   "version": "3.10.12"
  },
  "papermill": {
   "default_parameters": {},
   "duration": 12.423337,
   "end_time": "2023-11-22T16:51:57.535748",
   "environment_variables": {},
   "exception": null,
   "input_path": "__notebook__.ipynb",
   "output_path": "__notebook__.ipynb",
   "parameters": {},
   "start_time": "2023-11-22T16:51:45.112411",
   "version": "2.4.0"
  }
 },
 "nbformat": 4,
 "nbformat_minor": 5
}
